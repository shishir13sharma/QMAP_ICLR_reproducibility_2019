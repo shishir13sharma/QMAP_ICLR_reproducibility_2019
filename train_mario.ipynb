{
 "cells": [
  {
   "cell_type": "code",
   "execution_count": null,
   "metadata": {
    "nbpresent": {
     "id": "6c3e2d66-12d8-47f3-91e0-de2a20a06af3"
    }
   },
   "outputs": [],
   "source": [
    "from baselines.common import set_global_seeds\n",
    "from baselines.common.misc_util import boolean_flag\n",
    "from baselines.common.schedules import LinearSchedule\n",
    "\n",
    "import argparse\n",
    "import scipy.misc\n",
    "import os, datetime, time, re\n",
    "import sys\n",
    "\n",
    "import torch\n",
    "import torch.nn as nn\n",
    "import torch.nn.functional as F\n",
    "\n",
    "import numpy as np\n",
    "\n",
    "import gym\n",
    "import matplotlib.pyplot as plt\n",
    "from IPython import display\n",
    "%matplotlib inline\n",
    "from copy import deepcopy\n",
    "from agents.models_pytorch import dqn_model, qmap_model\n",
    "from agents.q_map_dqn_agent_pytorch import Q_Map_DQN_Agent\n",
    "\n",
    "from agents.replay_buffers import DoublePrioritizedReplayBuffer\n",
    "from envs.custom_mario import CustomSuperMarioAllStarsEnv\n",
    "from envs.wrappers import PerfLogger\n",
    "from time import gmtime, strftime"
   ]
  },
  {
   "cell_type": "code",
   "execution_count": null,
   "metadata": {
    "collapsed": true
   },
   "outputs": [],
   "source": [
    "# sys.argv = []\n",
    "parser = argparse.ArgumentParser(formatter_class=argparse.ArgumentDefaultsHelpFormatter)\n",
    "parser.add_argument('--seed', help='random number generator seed', type=int, default=0)\n",
    "parser.add_argument('--path', default='pytorch_results/' + strftime(\"%d_%b_%Y_%H_%M_%S\", gmtime()))\n",
    "parser.add_argument('--level', help='game level', default='1.1')\n",
    "parser.add_argument('--load', help='steps of the models saved in Models folder', default=None)\n",
    "boolean_flag(parser, 'dqn', default=True)\n",
    "boolean_flag(parser, 'qmap', default=True)\n",
    "boolean_flag(parser, 'render', help='play the videos', default=False)\n",
    "args = parser.parse_args('')"
   ]
  },
  {
   "cell_type": "code",
   "execution_count": null,
   "metadata": {
    "nbpresent": {
     "id": "e902942d-d39f-434e-81aa-14169872234c"
    }
   },
   "outputs": [],
   "source": [
    "env = CustomSuperMarioAllStarsEnv(screen_ratio=4, coords_ratio=8, use_color=False, use_rc_frame=False,\n",
    "                                  stack=3, frame_skip=2, action_repeat=4, level=args.level)\n",
    "\n",
    "coords_shape = env.coords_shape\n",
    "set_global_seeds(args.seed)\n",
    "env.seed(args.seed)"
   ]
  },
  {
   "cell_type": "code",
   "execution_count": null,
   "metadata": {},
   "outputs": [],
   "source": [
    "mario_dqn = dqn_model(\n",
    "        observation_space=env.observation_space.shape,\n",
    "        conv_params=np.array([(32, 8, 2, 3), (32, 6, 2, 2), (64, 4, 2, 1)]),\n",
    "        hidden_params=np.array([1024]),        \n",
    "        layer_norm=True,\n",
    "        activation_fn = F.relu,\n",
    "        n_actions=env.action_space.n\n",
    "    )\n",
    "\n",
    "print(mario_dqn)"
   ]
  },
  {
   "cell_type": "code",
   "execution_count": null,
   "metadata": {},
   "outputs": [],
   "source": [
    "mario_qmap = qmap_model(\n",
    "        observation_space=env.observation_space.shape,\n",
    "        conv_params=np.array([(32, 8, 2, 3), (32, 6, 2, 2), (64, 4, 2, 1)]),\n",
    "        hidden_params=np.array([1024]),\n",
    "        deconv_params = np.array([(64, 4, 2, 1), (32, 6, 2, 2), (env.action_space.n, 4, 1, 2)]),\n",
    "        layer_norm=True,\n",
    "        activation_fn = F.elu,        \n",
    "    )\n",
    "print(mario_qmap)"
   ]
  },
  {
   "cell_type": "code",
   "execution_count": null,
   "metadata": {
    "scrolled": false
   },
   "outputs": [],
   "source": [
    "print(\"CUDA Available: \",torch.cuda.is_available())\n",
    "device = torch.device(\"cuda\" if (torch.cuda.is_available()) else \"cpu\")\n",
    "mario_dqn = mario_dqn.to(device)\n",
    "mario_qmap = mario_qmap.to(device)\n",
    "\n",
    "n_steps = int(5e6)\n",
    "exploration_schedule = LinearSchedule(schedule_timesteps=n_steps, initial_p=1.0, final_p=0.05)\n",
    "q_map_random_schedule = LinearSchedule(schedule_timesteps=n_steps, initial_p=0.1, final_p=0.05)\n",
    "double_replay_buffer = DoublePrioritizedReplayBuffer(int(5e5), alpha=0.6, epsilon=1e-6, \n",
    "                                                     timesteps=n_steps, initial_p=0.4, final_p=1.0)\n",
    "task_gamma = 0.99"
   ]
  },
  {
   "cell_type": "code",
   "execution_count": null,
   "metadata": {},
   "outputs": [],
   "source": [
    "agent = Q_Map_DQN_Agent(    \n",
    "    n_actions=env.action_space.n, \n",
    "    coords_shape=env.unwrapped.coords_shape,\n",
    "    double_replay_buffer=double_replay_buffer,\n",
    "    task_gamma=task_gamma,\n",
    "    exploration_schedule=exploration_schedule,\n",
    "    seed=args.seed,\n",
    "    path=args.path,\n",
    "    learning_starts=1000,\n",
    "    train_freq=4,\n",
    "    print_freq=1,    \n",
    "    renderer_viewer=True,\n",
    "    # DQN\n",
    "    dqn_model= mario_dqn,\n",
    "    dqn_lr=1e-4,\n",
    "    dqn_optim_iters=1,\n",
    "    dqn_batch_size=32,\n",
    "    dqn_target_net_update_freq=1000,\n",
    "    dqn_grad_norm_clip=1000,\n",
    "    #QMAP\n",
    "    q_map_model=mario_qmap,\n",
    "    q_map_random_schedule=q_map_random_schedule,\n",
    "    q_map_greedy_bias=0.5,\n",
    "    q_map_timer_bonus=0.5, # 50% more time than predicted\n",
    "    q_map_lr=3e-4,\n",
    "    q_map_gamma=0.9,\n",
    "    q_map_n_steps=1,\n",
    "    q_map_batch_size=32,\n",
    "    q_map_optim_iters=1,\n",
    "    q_map_target_net_update_freq=1000,\n",
    "    q_map_min_goal_steps=15,\n",
    "    q_map_max_goal_steps=30,\n",
    "    q_map_grad_norm_clip=1000\n",
    ")\n",
    "if args.load is not None:\n",
    "    agent.load(args.path, args.load)"
   ]
  },
  {
   "cell_type": "code",
   "execution_count": null,
   "metadata": {
    "nbpresent": {
     "id": "3b99caa6-fe6c-4d78-978d-e366ec93c284"
    },
    "scrolled": true
   },
   "outputs": [],
   "source": [
    "env = PerfLogger(env, agent.task_gamma, agent.path)\n",
    "done = True\n",
    "episode = 0\n",
    "score = None\n",
    "best_score = -1e6\n",
    "best_distance = -1e6\n",
    "previous_time = time.time()\n",
    "last_ips_t = 0\n",
    "\n",
    "for t in range(n_steps+1):        \n",
    "    \n",
    "    if done:\n",
    "        new_best = False\n",
    "        if episode > 0:\n",
    "            if score >= best_score:\n",
    "                best_score = score\n",
    "                new_best = True\n",
    "            distance = env.unwrapped.full_c\n",
    "            if distance >= best_distance:\n",
    "                best_distance = distance\n",
    "                new_best = True\n",
    "\n",
    "        if episode > 0 and (episode < 50 or episode % 10 == 0 or new_best):\n",
    "            current_time = time.time()\n",
    "            ips = (t - last_ips_t) / (current_time - previous_time)\n",
    "            print('step: {} IPS: {:.2f}'.format(t+1, ips))\n",
    "            name = 'score_%08.3f'%score + '_distance_' + str(distance) + '_steps_' + str(t+1) + '_episode_' + str(episode)                        \n",
    "            agent.renderer.render(name)\n",
    "            previous_time = current_time\n",
    "            last_ips_t = t\n",
    "        else:            \n",
    "            agent.renderer.reset()\n",
    "            \n",
    "        episode += 1\n",
    "        score = 0\n",
    "\n",
    "        ob = env.reset()\n",
    "        ac = agent.reset(ob)\n",
    "        \n",
    "    ob, rew, done, _ = env.step(ac)        \n",
    "    score += rew                            \n",
    "    \n",
    "    ac = agent.step(ob, rew, done)    \n",
    "\n",
    "env.close()"
   ]
  }
 ],
 "metadata": {
  "kernelspec": {
   "display_name": "Python 2",
   "language": "python",
   "name": "python2"
  },
  "language_info": {
   "codemirror_mode": {
    "name": "ipython",
    "version": 2
   },
   "file_extension": ".py",
   "mimetype": "text/x-python",
   "name": "python",
   "nbconvert_exporter": "python",
   "pygments_lexer": "ipython2",
   "version": "2.7.15"
  }
 },
 "nbformat": 4,
 "nbformat_minor": 2
}
